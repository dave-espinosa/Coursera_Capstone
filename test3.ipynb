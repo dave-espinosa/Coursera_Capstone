{
 "cells": [
  {
   "cell_type": "markdown",
   "metadata": {},
   "source": [
    "# IBM \"Applied Data Science Capstone\" course (Week 1)\n",
    "\n",
    "This notebook contains \"Week 1\" to \"Week 3\" activities required to complete and pass the IBM \"Applied Data Science Capstone\" course, the last of \"IBM Data Science\" Professional Certificate. Each section contains the corresponding week's assignment. Please notice that this notebook will be continuosly updated, until explicitely state it as \"Final Version\".\n"
   ]
  },
  {
   "cell_type": "markdown",
   "metadata": {},
   "source": [
    "### Week 1 Assignment (Warm up & Github sharing) <a class=\"anchor\" id=\"week1\"></a>\n",
    "\n",
    "On this week, we are going to make some preliminary library imports, and print some regarding message, to test some basic functionality of the notebook of our choice."
   ]
  },
  {
   "cell_type": "markdown",
   "metadata": {},
   "source": [
    "## Table of contents\n",
    "\n",
    "<div class=\"alert alert-block alert-info\" style=\"margin-top: 20px\">\n",
    "       \n",
    "1.  <a href=\"#week1\">Week 1 Assignment (Warm up & Github sharing</a>\n",
    "2.  <a href=\"#week3p1\">Week 3, Part 1 (Segmenting and Clustering Neighborhoods in Toronto)</a>  \n",
    "3.  <a href=\"#week3p2\">Week 3, Part 2 (Segmenting and Clustering Neighborhoods in Toronto)</a>  \n",
    "4.  <a href=\"#week3p3\">Week 3, Part 3 (Segmenting and Clustering Neighborhoods in Toronto)</a>  "
   ]
  },
  {
   "cell_type": "code",
   "execution_count": 5,
   "metadata": {},
   "outputs": [
    {
     "name": "stdout",
     "output_type": "stream",
     "text": [
      "Test libraries imported successfully!\n",
      "\n",
      "Hello Capstone Project Course!\n"
     ]
    }
   ],
   "source": [
    "\n",
    "pd.set_option('display.max_columns', None)\n",
    "pd.set_option('display.max_rows', None)\n",
    "print('Test libraries imported successfully!\\n\\nHello Capstone Project Course!')"
   ]
  },
  {
   "cell_type": "markdown",
   "metadata": {},
   "source": [
    "### Week 3, Part 1 (Segmenting and Clustering Neighborhoods in Toronto) <a class=\"anchor\" id=\"week3p1\"></a>\n",
    "\n",
    "On this week, we are going to make some preliminary library imports, and print some regarding message, to test some basic functionality of the notebook of our choice."
   ]
  },
  {
   "cell_type": "code",
   "execution_count": null,
   "metadata": {},
   "outputs": [],
   "source": []
  }
 ],
 "metadata": {
  "kernelspec": {
   "display_name": "Python",
   "language": "python",
   "name": "conda-env-python-py"
  },
  "language_info": {
   "codemirror_mode": {
    "name": "ipython",
    "version": 3
   },
   "file_extension": ".py",
   "mimetype": "text/x-python",
   "name": "python",
   "nbconvert_exporter": "python",
   "pygments_lexer": "ipython3",
   "version": "3.6.11"
  },
  "widgets": {
   "state": {},
   "version": "1.1.2"
  }
 },
 "nbformat": 4,
 "nbformat_minor": 4
}
